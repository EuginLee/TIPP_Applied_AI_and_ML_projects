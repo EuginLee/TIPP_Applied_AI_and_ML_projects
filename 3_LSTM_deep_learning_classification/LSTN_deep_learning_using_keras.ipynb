{
 "cells": [
  {
   "cell_type": "markdown",
   "metadata": {
    "colab_type": "text",
    "id": "TIuMj2_yGnSK"
   },
   "source": [
    "### Neural network LSTM prediction/classification using Keras and Google Colab\n",
    "\n",
    " LSTM (Long short term memory) is a variant of RNN (Recurring Neural network) that remembers past data using a memory cell feature. One of its use case is to predict time series datasets and langauge.\n",
    " \n",
    " In this project, we use a RNN(LSTM) model to predict if the room is occupied in the next min.\n",
    "\n",
    " We introduce data lead/lag, to predict if room is occupied in the next time instance.\n",
    "\n",
    "Skills: keras, scikitlearn, pandas, numpy, google colab, neural networks\n",
    "\n",
    "dataset: http://archive.ics.uci.edu/ml/datasets/Occupancy+Detection+"
   ]
  },
  {
   "cell_type": "markdown",
   "metadata": {
    "colab_type": "text",
    "id": "pqJxWlG7GnSh"
   },
   "source": [
    "---\n",
    "Load the data."
   ]
  },
  {
   "cell_type": "markdown",
   "metadata": {},
   "source": [
    "### 1) Loading the datasets and python libraries  \n",
    "  \n",
    "For this project we utilised Google's colab cloud GPUs as it takes a long time to train LSTM models.  \n",
    "Using GPUs, instead of running it locally on a laptop, helps to save processing time.  \n",
    "  \n",
    "This section shows how u can use google colab:  \n",
    "1) load your data files into cloud  \n",
    "2) link the data files to the colab notebook to run"
   ]
  },
  {
   "cell_type": "code",
   "execution_count": 2,
   "metadata": {
    "colab": {},
    "colab_type": "code",
    "id": "gHX7CSohOZ8I"
   },
   "outputs": [
    {
     "ename": "ModuleNotFoundError",
     "evalue": "No module named 'google.colab'",
     "output_type": "error",
     "traceback": [
      "\u001b[1;31m---------------------------------------------------------------------------\u001b[0m",
      "\u001b[1;31mModuleNotFoundError\u001b[0m                       Traceback (most recent call last)",
      "\u001b[1;32m<ipython-input-2-60cc4f51b2d1>\u001b[0m in \u001b[0;36m<module>\u001b[1;34m\u001b[0m\n\u001b[0;32m      3\u001b[0m \u001b[1;32mfrom\u001b[0m \u001b[0mpydrive\u001b[0m\u001b[1;33m.\u001b[0m\u001b[0mauth\u001b[0m \u001b[1;32mimport\u001b[0m \u001b[0mGoogleAuth\u001b[0m\u001b[1;33m\u001b[0m\u001b[1;33m\u001b[0m\u001b[0m\n\u001b[0;32m      4\u001b[0m \u001b[1;32mfrom\u001b[0m \u001b[0mpydrive\u001b[0m\u001b[1;33m.\u001b[0m\u001b[0mdrive\u001b[0m \u001b[1;32mimport\u001b[0m \u001b[0mGoogleDrive\u001b[0m\u001b[1;33m\u001b[0m\u001b[1;33m\u001b[0m\u001b[0m\n\u001b[1;32m----> 5\u001b[1;33m \u001b[1;32mfrom\u001b[0m \u001b[0mgoogle\u001b[0m\u001b[1;33m.\u001b[0m\u001b[0mcolab\u001b[0m \u001b[1;32mimport\u001b[0m \u001b[0mauth\u001b[0m\u001b[1;33m\u001b[0m\u001b[1;33m\u001b[0m\u001b[0m\n\u001b[0m\u001b[0;32m      6\u001b[0m \u001b[1;32mfrom\u001b[0m \u001b[0moauth2client\u001b[0m\u001b[1;33m.\u001b[0m\u001b[0mclient\u001b[0m \u001b[1;32mimport\u001b[0m \u001b[0mGoogleCredentials\u001b[0m\u001b[1;33m\u001b[0m\u001b[1;33m\u001b[0m\u001b[0m\n\u001b[0;32m      7\u001b[0m \u001b[1;33m\u001b[0m\u001b[0m\n",
      "\u001b[1;31mModuleNotFoundError\u001b[0m: No module named 'google.colab'"
     ]
    }
   ],
   "source": [
    "# Code to read csv file into Colaboratory:\n",
    "!pip install -U -q PyDrive\n",
    "from pydrive.auth import GoogleAuth\n",
    "from pydrive.drive import GoogleDrive\n",
    "from google.colab import auth\n",
    "from oauth2client.client import GoogleCredentials\n",
    "\n",
    "\n",
    "# Authenticate and create the PyDrive client.\n",
    "auth.authenticate_user()\n",
    "gauth = GoogleAuth()\n",
    "gauth.credentials = GoogleCredentials.get_application_default()\n",
    "drive = GoogleDrive(gauth)"
   ]
  },
  {
   "cell_type": "code",
   "execution_count": null,
   "metadata": {
    "colab": {},
    "colab_type": "code",
    "id": "PfbdLkF_CMkz"
   },
   "outputs": [],
   "source": [
    "import pandas as pd\n",
    "from sklearn import preprocessing\n",
    "import numpy as np\n",
    "from keras import models\n",
    "from keras import layers\n",
    "from keras.models import Sequential\n",
    "from keras.layers import Embedding, LSTM\n",
    "from keras.layers import Dropout\n",
    "from keras.layers import Dense\n",
    "import pickle as pk"
   ]
  },
  {
   "cell_type": "code",
   "execution_count": 45,
   "metadata": {
    "colab": {
     "base_uri": "https://localhost:8080/",
     "height": 119
    },
    "colab_type": "code",
    "id": "Di359v8rk7_P",
    "outputId": "1889f7e9-8836-47e7-8b65-654d36885256"
   },
   "outputs": [
    {
     "name": "stdout",
     "output_type": "stream",
     "text": [
      "(2665, 7)\n",
      "(9752, 7)\n",
      "(8143, 7)\n"
     ]
    },
    {
     "data": {
      "text/plain": [
       "Index(['date', 'Temperature', 'Humidity', 'Light', 'CO2', 'HumidityRatio',\n",
       "       'Occupancy'],\n",
       "      dtype='object')"
      ]
     },
     "execution_count": 45,
     "metadata": {
      "tags": []
     },
     "output_type": "execute_result"
    }
   ],
   "source": [
    "# upload the csv files (using google drive links):\n",
    "\n",
    "link1 = 'https://drive.google.com/open?id=1kTmIOBdGoHZUMexPpBsNO2yP8qBdGrJl'\n",
    "link2 = 'https://drive.google.com/open?id=1DnoQf1iA8er0bzRhfEZO-Sp7BxBoUJyA'\n",
    "link3 = 'https://drive.google.com/open?id=10KJW3GkFwJugJpRzGRdhX0qwXa6L1Raz'\n",
    "fluff, id = link1.split('=')\n",
    "downloaded = drive.CreateFile({'id':id}) \n",
    "downloaded.GetContentFile('Filename.csv')  \n",
    "dtest1 = pd.read_csv('Filename.csv')\n",
    "\n",
    "fluff, id = link2.split('=')\n",
    "downloaded = drive.CreateFile({'id':id}) \n",
    "downloaded.GetContentFile('Filename.csv')  \n",
    "dtest2 = pd.read_csv('Filename.csv')\n",
    "\n",
    "fluff, id = link3.split('=')\n",
    "downloaded = drive.CreateFile({'id':id}) \n",
    "downloaded.GetContentFile('Filename.csv')  \n",
    "dtrain = pd.read_csv('Filename.csv')\n",
    "\n",
    "\n",
    "print(dtest1.shape) # datatest.csv\n",
    "print(dtest2.shape) # datatest2.csv\n",
    "print(dtrain.shape) # datatraining.csv\n",
    "dtrain.columns"
   ]
  },
  {
   "cell_type": "markdown",
   "metadata": {},
   "source": [
    "### 2) Data preparation  \n",
    "  \n",
    "As the dataset is a time series, there is a need to sort the data set by date to get the order correct.  \n",
    "Next, we train-test split the data. As a check, I would print out the result dataframe shape."
   ]
  },
  {
   "cell_type": "code",
   "execution_count": 46,
   "metadata": {
    "colab": {
     "base_uri": "https://localhost:8080/",
     "height": 170
    },
    "colab_type": "code",
    "id": "TE2XyrtI25oU",
    "outputId": "02332a7e-50ba-49a5-b353-d80453d07779"
   },
   "outputs": [
    {
     "name": "stdout",
     "output_type": "stream",
     "text": [
      "Before timestep:\n",
      "\n",
      "x_train shape: (8143, 5)\n",
      "x_test shape: (2665, 5)\n",
      "x_test2 shape: (9752, 5)\n",
      "\n",
      "y_train shape: (8143,)\n",
      "y_test shape: (2665,)\n",
      "y_test2 shape: (9752,)\n"
     ]
    }
   ],
   "source": [
    "#sort by time, x_train, y_train, x_test, y_test\n",
    "# we need to sort by data to organise the time series\n",
    "\n",
    "dtrain.sort_values(\"date\", ascending= True)\n",
    "x_train = dtrain[['Temperature', 'Humidity', 'Light', 'CO2', 'HumidityRatio']]\n",
    "y_train = dtrain['Occupancy']\n",
    "\n",
    "dtest1.sort_values(\"date\", ascending= True)\n",
    "x_test = dtest1[['Temperature', 'Humidity', 'Light', 'CO2', 'HumidityRatio']]\n",
    "y_test = dtest1['Occupancy']\n",
    "\n",
    "dtest2.sort_values(\"date\", ascending= True)\n",
    "x_test2 = dtest2[['Temperature', 'Humidity', 'Light', 'CO2', 'HumidityRatio']]\n",
    "y_test2 = dtest2['Occupancy']\n",
    "\n",
    "print(\"Before timestep:\")\n",
    "print()\n",
    "print('x_train shape:', x_train.shape)\n",
    "print('x_test shape:', x_test.shape)\n",
    "print('x_test2 shape:', x_test2.shape)\n",
    "print()\n",
    "print('y_train shape:', y_train.shape)\n",
    "print('y_test shape:', y_test.shape)\n",
    "print('y_test2 shape:', y_test2.shape)\n"
   ]
  },
  {
   "cell_type": "code",
   "execution_count": 47,
   "metadata": {
    "colab": {
     "base_uri": "https://localhost:8080/",
     "height": 419
    },
    "colab_type": "code",
    "id": "FSIUKbT9d8VV",
    "outputId": "9c2b29a5-baa4-47c0-f5af-431de4822726"
   },
   "outputs": [
    {
     "data": {
      "text/html": [
       "<div>\n",
       "<style scoped>\n",
       "    .dataframe tbody tr th:only-of-type {\n",
       "        vertical-align: middle;\n",
       "    }\n",
       "\n",
       "    .dataframe tbody tr th {\n",
       "        vertical-align: top;\n",
       "    }\n",
       "\n",
       "    .dataframe thead th {\n",
       "        text-align: right;\n",
       "    }\n",
       "</style>\n",
       "<table border=\"1\" class=\"dataframe\">\n",
       "  <thead>\n",
       "    <tr style=\"text-align: right;\">\n",
       "      <th></th>\n",
       "      <th>date</th>\n",
       "      <th>Temperature</th>\n",
       "      <th>Humidity</th>\n",
       "      <th>Light</th>\n",
       "      <th>CO2</th>\n",
       "      <th>HumidityRatio</th>\n",
       "      <th>Occupancy</th>\n",
       "    </tr>\n",
       "  </thead>\n",
       "  <tbody>\n",
       "    <tr>\n",
       "      <th>1</th>\n",
       "      <td>2015-02-04 17:51:00</td>\n",
       "      <td>23.18</td>\n",
       "      <td>27.2720</td>\n",
       "      <td>426.0</td>\n",
       "      <td>721.250000</td>\n",
       "      <td>0.004793</td>\n",
       "      <td>1</td>\n",
       "    </tr>\n",
       "    <tr>\n",
       "      <th>2</th>\n",
       "      <td>2015-02-04 17:51:59</td>\n",
       "      <td>23.15</td>\n",
       "      <td>27.2675</td>\n",
       "      <td>429.5</td>\n",
       "      <td>714.000000</td>\n",
       "      <td>0.004783</td>\n",
       "      <td>1</td>\n",
       "    </tr>\n",
       "    <tr>\n",
       "      <th>3</th>\n",
       "      <td>2015-02-04 17:53:00</td>\n",
       "      <td>23.15</td>\n",
       "      <td>27.2450</td>\n",
       "      <td>426.0</td>\n",
       "      <td>713.500000</td>\n",
       "      <td>0.004779</td>\n",
       "      <td>1</td>\n",
       "    </tr>\n",
       "    <tr>\n",
       "      <th>4</th>\n",
       "      <td>2015-02-04 17:54:00</td>\n",
       "      <td>23.15</td>\n",
       "      <td>27.2000</td>\n",
       "      <td>426.0</td>\n",
       "      <td>708.250000</td>\n",
       "      <td>0.004772</td>\n",
       "      <td>1</td>\n",
       "    </tr>\n",
       "    <tr>\n",
       "      <th>5</th>\n",
       "      <td>2015-02-04 17:55:00</td>\n",
       "      <td>23.10</td>\n",
       "      <td>27.2000</td>\n",
       "      <td>426.0</td>\n",
       "      <td>704.500000</td>\n",
       "      <td>0.004757</td>\n",
       "      <td>1</td>\n",
       "    </tr>\n",
       "    <tr>\n",
       "      <th>...</th>\n",
       "      <td>...</td>\n",
       "      <td>...</td>\n",
       "      <td>...</td>\n",
       "      <td>...</td>\n",
       "      <td>...</td>\n",
       "      <td>...</td>\n",
       "      <td>...</td>\n",
       "    </tr>\n",
       "    <tr>\n",
       "      <th>8139</th>\n",
       "      <td>2015-02-10 09:29:00</td>\n",
       "      <td>21.05</td>\n",
       "      <td>36.0975</td>\n",
       "      <td>433.0</td>\n",
       "      <td>787.250000</td>\n",
       "      <td>0.005579</td>\n",
       "      <td>1</td>\n",
       "    </tr>\n",
       "    <tr>\n",
       "      <th>8140</th>\n",
       "      <td>2015-02-10 09:29:59</td>\n",
       "      <td>21.05</td>\n",
       "      <td>35.9950</td>\n",
       "      <td>433.0</td>\n",
       "      <td>789.500000</td>\n",
       "      <td>0.005563</td>\n",
       "      <td>1</td>\n",
       "    </tr>\n",
       "    <tr>\n",
       "      <th>8141</th>\n",
       "      <td>2015-02-10 09:30:59</td>\n",
       "      <td>21.10</td>\n",
       "      <td>36.0950</td>\n",
       "      <td>433.0</td>\n",
       "      <td>798.500000</td>\n",
       "      <td>0.005596</td>\n",
       "      <td>1</td>\n",
       "    </tr>\n",
       "    <tr>\n",
       "      <th>8142</th>\n",
       "      <td>2015-02-10 09:32:00</td>\n",
       "      <td>21.10</td>\n",
       "      <td>36.2600</td>\n",
       "      <td>433.0</td>\n",
       "      <td>820.333333</td>\n",
       "      <td>0.005621</td>\n",
       "      <td>1</td>\n",
       "    </tr>\n",
       "    <tr>\n",
       "      <th>8143</th>\n",
       "      <td>2015-02-10 09:33:00</td>\n",
       "      <td>21.10</td>\n",
       "      <td>36.2000</td>\n",
       "      <td>447.0</td>\n",
       "      <td>821.000000</td>\n",
       "      <td>0.005612</td>\n",
       "      <td>1</td>\n",
       "    </tr>\n",
       "  </tbody>\n",
       "</table>\n",
       "<p>8143 rows × 7 columns</p>\n",
       "</div>"
      ],
      "text/plain": [
       "                     date  Temperature  ...  HumidityRatio  Occupancy\n",
       "1     2015-02-04 17:51:00        23.18  ...       0.004793          1\n",
       "2     2015-02-04 17:51:59        23.15  ...       0.004783          1\n",
       "3     2015-02-04 17:53:00        23.15  ...       0.004779          1\n",
       "4     2015-02-04 17:54:00        23.15  ...       0.004772          1\n",
       "5     2015-02-04 17:55:00        23.10  ...       0.004757          1\n",
       "...                   ...          ...  ...            ...        ...\n",
       "8139  2015-02-10 09:29:00        21.05  ...       0.005579          1\n",
       "8140  2015-02-10 09:29:59        21.05  ...       0.005563          1\n",
       "8141  2015-02-10 09:30:59        21.10  ...       0.005596          1\n",
       "8142  2015-02-10 09:32:00        21.10  ...       0.005621          1\n",
       "8143  2015-02-10 09:33:00        21.10  ...       0.005612          1\n",
       "\n",
       "[8143 rows x 7 columns]"
      ]
     },
     "execution_count": 47,
     "metadata": {
      "tags": []
     },
     "output_type": "execute_result"
    }
   ],
   "source": [
    "dtrain.sort_values(\"date\", ascending= True)\n",
    "dtrain"
   ]
  },
  {
   "cell_type": "markdown",
   "metadata": {},
   "source": [
    "### 3) Data wangling, introduce prediction in a classification model  \n",
    "To allow the model to predict, we shifted the x and y of the model to allow Variables (in T) to aline with target class (T+1).  \n",
    "Given that the data is order most recent day last, we deleted the last row of x, and then delete first row of y."
   ]
  },
  {
   "cell_type": "code",
   "execution_count": 48,
   "metadata": {
    "colab": {
     "base_uri": "https://localhost:8080/",
     "height": 136
    },
    "colab_type": "code",
    "id": "3jL8GRdl8-KN",
    "outputId": "29935f25-f475-4277-b150-16670dd9ec84"
   },
   "outputs": [
    {
     "name": "stdout",
     "output_type": "stream",
     "text": [
      "x_train shape: (8142, 5)\n",
      "x_test shape: (2664, 5)\n",
      "x_test2 shape: (9751, 5)\n",
      "\n",
      "y_train shape: (8142,)\n",
      "y_test shape: (2664,)\n",
      "y_test2 shape: (9751,)\n"
     ]
    }
   ],
   "source": [
    "# shift: delete x, last day (last row), delete y, first day (first row)\n",
    "# but shifting this way, we map historical value with predicted future\n",
    "\n",
    "x_train = x_train.drop(x_train.index[-1])\n",
    "x_test = x_test.drop(x_test.index[-1])\n",
    "x_test2 = x_test2.drop(x_test2.index[-1])\n",
    "\n",
    "y_train = y_train.drop(y_train.index[0])\n",
    "y_test = y_test.drop(y_test.index[0])\n",
    "y_test2 = y_test2.drop(y_test2.index[0])\n",
    "\n",
    "print('x_train shape:', x_train.shape)\n",
    "print('x_test shape:', x_test.shape)\n",
    "print('x_test2 shape:', x_test2.shape)\n",
    "print()\n",
    "print('y_train shape:', y_train.shape)\n",
    "print('y_test shape:', y_test.shape)\n",
    "print('y_test2 shape:', y_test2.shape)"
   ]
  },
  {
   "cell_type": "markdown",
   "metadata": {},
   "source": [
    "### 4) Standard scaling of data, and introducing 'time step' into the data array  \n",
    "  \n",
    "Given that all the data points are numerical and continuous. We use standard scaler to standardised it.  \n",
    "To introduce 'time step' dimension to the data, we use the reshape function. "
   ]
  },
  {
   "cell_type": "code",
   "execution_count": null,
   "metadata": {
    "colab": {},
    "colab_type": "code",
    "id": "Sj5dC3DBwSO9"
   },
   "outputs": [],
   "source": [
    "# Standard Scale numerial feature data\n",
    "numerical_data = x_train.select_dtypes(include=['float64', 'int64']).copy()\n",
    "data_tmp = numerical_data.values #returns a numpy array\n",
    "std_scaler = preprocessing.StandardScaler()\n",
    "data_tmp = std_scaler.fit_transform(x_train)\n",
    "x_train = pd.DataFrame(data_tmp, columns=numerical_data.columns)\n",
    "\n",
    "x_test = std_scaler.transform(x_test)\n",
    "x_test = pd.DataFrame(x_test, columns=numerical_data.columns)\n",
    "\n",
    "x_test2 = std_scaler.transform(x_test2)\n",
    "x_test2 = pd.DataFrame(x_test2, columns=numerical_data.columns)\n",
    "\n",
    "x_col_name = x_train.columns\n",
    "features = len(x_col_name)\n"
   ]
  },
  {
   "cell_type": "code",
   "execution_count": 51,
   "metadata": {
    "colab": {
     "base_uri": "https://localhost:8080/",
     "height": 187
    },
    "colab_type": "code",
    "id": "ajpuTxT-nPwn",
    "outputId": "1ddd91b3-3bf3-48b6-b20c-ea2e8acde26a"
   },
   "outputs": [
    {
     "name": "stdout",
     "output_type": "stream",
     "text": [
      "\n",
      "After timestep:\n",
      "\n",
      "x_train shape: (8142, 1, 5)\n",
      "x_test shape: (2664, 1, 5)\n",
      "x_test2 shape: (9751, 1, 5)\n",
      "\n",
      "y_train shape: (8142,)\n",
      "y_test shape: (2664,)\n",
      "y_test2 shape: (9751,)\n"
     ]
    }
   ],
   "source": [
    "#converting 2D data into 3D for LSTM, LSTM(data rows,timestep, features)\n",
    "# add time step\n",
    "\n",
    "x_train =np.array(x_train)\n",
    "x_test = np.array(x_test)\n",
    "x_test2 = np.array(x_test2)\n",
    "\n",
    "x_train = np.reshape(x_train, (x_train.shape[0], -1, x_train.shape[1]))\n",
    "x_test = np.reshape(x_test, (x_test.shape[0], -1, x_test.shape[1]))\n",
    "x_test2 = np.reshape(x_test2, (x_test2.shape[0], -1, x_test2.shape[1]))\n",
    "print()\n",
    "print(\"After timestep:\")\n",
    "print()\n",
    "print('x_train shape:', x_train.shape)\n",
    "print('x_test shape:', x_test.shape)\n",
    "print('x_test2 shape:', x_test2.shape)\n",
    "print()\n",
    "print('y_train shape:', y_train.shape)\n",
    "print('y_test shape:', y_test.shape)\n",
    "print('y_test2 shape:', y_test2.shape)"
   ]
  },
  {
   "cell_type": "markdown",
   "metadata": {},
   "source": [
    "### 5) Train the LSTM model \n",
    "\n",
    "Key features: dropout() to avoid overfitting the model  \n",
    "\n",
    "In this model, we use train_x: train the model, test: to validate the model, test2: to test the results.\n",
    "  \n",
    "Parameters to tune:  \n",
    "1) Epoch  \n",
    "2) Batch size  \n",
    "3) activation function  \n",
    "4) network layers  \n",
    "5) nodes  "
   ]
  },
  {
   "cell_type": "code",
   "execution_count": 54,
   "metadata": {
    "colab": {
     "base_uri": "https://localhost:8080/",
     "height": 1000
    },
    "colab_type": "code",
    "id": "XRgmJRmRA8qR",
    "outputId": "36b0345c-af68-4c35-b456-bc034d56dfb6",
    "scrolled": true
   },
   "outputs": [
    {
     "name": "stdout",
     "output_type": "stream",
     "text": [
      "WARNING:tensorflow:From /usr/local/lib/python3.6/dist-packages/keras/backend/tensorflow_backend.py:1033: The name tf.assign_add is deprecated. Please use tf.compat.v1.assign_add instead.\n",
      "\n",
      "WARNING:tensorflow:From /usr/local/lib/python3.6/dist-packages/keras/backend/tensorflow_backend.py:1020: The name tf.assign is deprecated. Please use tf.compat.v1.assign instead.\n",
      "\n",
      "WARNING:tensorflow:From /usr/local/lib/python3.6/dist-packages/keras/backend/tensorflow_backend.py:3005: The name tf.Session is deprecated. Please use tf.compat.v1.Session instead.\n",
      "\n",
      "Train on 8142 samples, validate on 2664 samples\n",
      "Epoch 1/22\n",
      "WARNING:tensorflow:From /usr/local/lib/python3.6/dist-packages/keras/backend/tensorflow_backend.py:190: The name tf.get_default_session is deprecated. Please use tf.compat.v1.get_default_session instead.\n",
      "\n",
      "WARNING:tensorflow:From /usr/local/lib/python3.6/dist-packages/keras/backend/tensorflow_backend.py:197: The name tf.ConfigProto is deprecated. Please use tf.compat.v1.ConfigProto instead.\n",
      "\n",
      "WARNING:tensorflow:From /usr/local/lib/python3.6/dist-packages/keras/backend/tensorflow_backend.py:207: The name tf.global_variables is deprecated. Please use tf.compat.v1.global_variables instead.\n",
      "\n",
      "WARNING:tensorflow:From /usr/local/lib/python3.6/dist-packages/keras/backend/tensorflow_backend.py:216: The name tf.is_variable_initialized is deprecated. Please use tf.compat.v1.is_variable_initialized instead.\n",
      "\n",
      "WARNING:tensorflow:From /usr/local/lib/python3.6/dist-packages/keras/backend/tensorflow_backend.py:223: The name tf.variables_initializer is deprecated. Please use tf.compat.v1.variables_initializer instead.\n",
      "\n",
      "8142/8142 [==============================] - 10s 1ms/step - loss: 0.5451 - acc: 0.8070 - val_loss: 0.4543 - val_acc: 0.8525\n",
      "Epoch 2/22\n",
      "8142/8142 [==============================] - 1s 71us/step - loss: 0.2934 - acc: 0.9122 - val_loss: 0.2309 - val_acc: 0.9426\n",
      "Epoch 3/22\n",
      "8142/8142 [==============================] - 1s 66us/step - loss: 0.1685 - acc: 0.9611 - val_loss: 0.1613 - val_acc: 0.9576\n",
      "Epoch 4/22\n",
      "8142/8142 [==============================] - 1s 65us/step - loss: 0.1233 - acc: 0.9713 - val_loss: 0.1321 - val_acc: 0.9655\n",
      "Epoch 5/22\n",
      "8142/8142 [==============================] - 1s 70us/step - loss: 0.0995 - acc: 0.9808 - val_loss: 0.1152 - val_acc: 0.9726\n",
      "Epoch 6/22\n",
      "8142/8142 [==============================] - 1s 68us/step - loss: 0.0839 - acc: 0.9851 - val_loss: 0.1045 - val_acc: 0.9764\n",
      "Epoch 7/22\n",
      "8142/8142 [==============================] - 1s 78us/step - loss: 0.0734 - acc: 0.9870 - val_loss: 0.0975 - val_acc: 0.9767\n",
      "Epoch 8/22\n",
      "8142/8142 [==============================] - 1s 68us/step - loss: 0.0665 - acc: 0.9872 - val_loss: 0.0931 - val_acc: 0.9767\n",
      "Epoch 9/22\n",
      "8142/8142 [==============================] - 1s 68us/step - loss: 0.0617 - acc: 0.9873 - val_loss: 0.0903 - val_acc: 0.9767\n",
      "Epoch 10/22\n",
      "8142/8142 [==============================] - 1s 65us/step - loss: 0.0590 - acc: 0.9873 - val_loss: 0.0886 - val_acc: 0.9764\n",
      "Epoch 11/22\n",
      "8142/8142 [==============================] - 1s 68us/step - loss: 0.0567 - acc: 0.9875 - val_loss: 0.0875 - val_acc: 0.9764\n",
      "Epoch 12/22\n",
      "8142/8142 [==============================] - 1s 65us/step - loss: 0.0555 - acc: 0.9872 - val_loss: 0.0869 - val_acc: 0.9764\n",
      "Epoch 13/22\n",
      "8142/8142 [==============================] - 1s 68us/step - loss: 0.0543 - acc: 0.9873 - val_loss: 0.0865 - val_acc: 0.9764\n",
      "Epoch 14/22\n",
      "8142/8142 [==============================] - 1s 66us/step - loss: 0.0535 - acc: 0.9872 - val_loss: 0.0863 - val_acc: 0.9764\n",
      "Epoch 15/22\n",
      "8142/8142 [==============================] - 1s 66us/step - loss: 0.0529 - acc: 0.9872 - val_loss: 0.0862 - val_acc: 0.9764\n",
      "Epoch 16/22\n",
      "8142/8142 [==============================] - 1s 68us/step - loss: 0.0526 - acc: 0.9872 - val_loss: 0.0862 - val_acc: 0.9764\n",
      "Epoch 17/22\n",
      "8142/8142 [==============================] - 1s 66us/step - loss: 0.0523 - acc: 0.9872 - val_loss: 0.0862 - val_acc: 0.9764\n",
      "Epoch 18/22\n",
      "8142/8142 [==============================] - 1s 65us/step - loss: 0.0520 - acc: 0.9872 - val_loss: 0.0863 - val_acc: 0.9764\n",
      "Epoch 19/22\n",
      "8142/8142 [==============================] - 1s 64us/step - loss: 0.0516 - acc: 0.9871 - val_loss: 0.0863 - val_acc: 0.9764\n",
      "Epoch 20/22\n",
      "8142/8142 [==============================] - 1s 66us/step - loss: 0.0515 - acc: 0.9871 - val_loss: 0.0864 - val_acc: 0.9764\n",
      "Epoch 21/22\n",
      "8142/8142 [==============================] - 1s 67us/step - loss: 0.0515 - acc: 0.9871 - val_loss: 0.0865 - val_acc: 0.9764\n",
      "Epoch 22/22\n",
      "8142/8142 [==============================] - 1s 64us/step - loss: 0.0514 - acc: 0.9872 - val_loss: 0.0866 - val_acc: 0.9764\n",
      "2664/2664 [==============================] - 0s 67us/step\n",
      "test loss: 0.08662065491779475\n",
      "test accuracy: 0.9763513513513513\n"
     ]
    }
   ],
   "source": [
    "sample= len(x_train)\n",
    "features = len(x_col_name)\n",
    "timesteps = 1\n",
    "\n",
    "# train LSTM model, x_train, y_train ~ x_test, y_test\n",
    "network = models.Sequential() #implied more than 1 sample\n",
    "network.add(LSTM(100, input_shape=(timesteps,features)))\n",
    "network.add(Dropout(0.2))\n",
    "network.add(Dense(32, activation='sigmoid'))\n",
    "network.add(Dense(1, activation='sigmoid'))\n",
    "\n",
    "\n",
    "# Observe the use loss function in the codes below\n",
    "network.compile(optimizer='adam',\n",
    "                loss='binary_crossentropy',\n",
    "                metrics=['accuracy'])\n",
    "\n",
    "# Observe the setting of shuffle to True\n",
    "# Play around the epochs, batch_size to see the effect \n",
    "# (Try to achieve <0.001 loss)\n",
    "\n",
    "history= network.fit(x_train, y_train, validation_data = (x_test, y_test), epochs=22, batch_size=100, verbose =1, shuffle = False)\n",
    "\n",
    "## JIMMY: You should use x_test2 and y_test2 for evaluation. (-5 marks)\n",
    "test_loss, test_acc = network.evaluate(x_test2, y_test2)\n",
    "\n",
    "print('test loss:', test_loss)\n",
    "print('test accuracy:', test_acc)"
   ]
  },
  {
   "cell_type": "markdown",
   "metadata": {
    "colab_type": "text",
    "id": "HAWRsd3nGnVI"
   },
   "source": [
    "---\n",
    "Summary of the model created."
   ]
  },
  {
   "cell_type": "code",
   "execution_count": 53,
   "metadata": {
    "colab": {
     "base_uri": "https://localhost:8080/",
     "height": 289
    },
    "colab_type": "code",
    "id": "fhZeRRcdGnVM",
    "outputId": "debbe18b-a7cf-4287-c499-1b4bcdfa558c"
   },
   "outputs": [
    {
     "name": "stdout",
     "output_type": "stream",
     "text": [
      "Model: \"sequential_4\"\n",
      "_________________________________________________________________\n",
      "Layer (type)                 Output Shape              Param #   \n",
      "=================================================================\n",
      "lstm_4 (LSTM)                (None, 100)               42400     \n",
      "_________________________________________________________________\n",
      "dropout_3 (Dropout)          (None, 100)               0         \n",
      "_________________________________________________________________\n",
      "dense_5 (Dense)              (None, 32)                3232      \n",
      "_________________________________________________________________\n",
      "dense_6 (Dense)              (None, 1)                 33        \n",
      "=================================================================\n",
      "Total params: 45,665\n",
      "Trainable params: 45,665\n",
      "Non-trainable params: 0\n",
      "_________________________________________________________________\n"
     ]
    }
   ],
   "source": [
    "network.summary()"
   ]
  },
  {
   "cell_type": "markdown",
   "metadata": {
    "colab_type": "text",
    "id": "D21w5WmWGnVf"
   },
   "source": [
    "---\n",
    "Train the model."
   ]
  },
  {
   "cell_type": "markdown",
   "metadata": {
    "colab_type": "text",
    "id": "UqwmCIXvGnV2"
   },
   "source": [
    "---\n",
    "Plot the training curve."
   ]
  },
  {
   "cell_type": "markdown",
   "metadata": {},
   "source": [
    "### 6) Model evaluation  \n",
    "  \n",
    "Given that the accuracy performed very well, 98%+ accuraccy for both validation and test data, we can say that the LSTM model performed well in production.  \n",
    "In terms of model accuracy and loss plots, we can see that it is fairly consistent, with both following a consistent sloped curve. The flattening of both curve can be seen around 7 epoch, suggesting that the model is optimised from that epoch onwards. "
   ]
  },
  {
   "cell_type": "code",
   "execution_count": 55,
   "metadata": {
    "colab": {
     "base_uri": "https://localhost:8080/",
     "height": 545
    },
    "colab_type": "code",
    "id": "h7VYf3MRGnV6",
    "outputId": "a073a658-d7a0-4153-de7b-bd133434a8f9",
    "scrolled": true
   },
   "outputs": [
    {
     "data": {
      "image/png": "[encoded data removed]",
      "text/plain": [
       "<Figure size 432x288 with 1 Axes>"
      ]
     },
     "metadata": {
      "tags": []
     },
     "output_type": "display_data"
    },
    {
     "data": {
      "image/png": "[encoded data removed]",
      "text/plain": [
       "<Figure size 432x288 with 1 Axes>"
      ]
     },
     "metadata": {
      "tags": []
     },
     "output_type": "display_data"
    }
   ],
   "source": [
    "import matplotlib.pyplot as plt\n",
    "%matplotlib inline\n",
    "\n",
    "acc = history.history['acc']\n",
    "val_acc = history.history['val_acc']\n",
    "loss = history.history['loss']\n",
    "val_loss = history.history['val_loss']\n",
    "\n",
    "epochs = range(len(acc))\n",
    "\n",
    "plt.plot(epochs, acc, 'bo', label='Training acc')\n",
    "plt.plot(epochs, val_acc, 'b', label='Validation acc')\n",
    "plt.title('Training and validation accuracy')\n",
    "plt.legend()\n",
    "\n",
    "plt.figure()\n",
    "\n",
    "plt.plot(epochs, loss, 'bo', label='Training loss')\n",
    "plt.plot(epochs, val_loss, 'b', label='Validation loss')\n",
    "plt.title('Training and validation loss')\n",
    "plt.legend()\n",
    "\n",
    "plt.show()"
   ]
  },
  {
   "cell_type": "code",
   "execution_count": 56,
   "metadata": {
    "colab": {
     "base_uri": "https://localhost:8080/",
     "height": 255
    },
    "colab_type": "code",
    "id": "2JS-pPyaGnWR",
    "outputId": "65dc81f0-19ab-4cf1-d252-b1e666e2af12"
   },
   "outputs": [
    {
     "name": "stdout",
     "output_type": "stream",
     "text": [
      "2664/2664 [==============================] - 0s 75us/step\n",
      "\n",
      "Model validation against testset 1:\n",
      "\n",
      "test loss: 0.08662065491779475\n",
      "test accuracy: 0.9763513513513513\n",
      "\n",
      "\n",
      "9751/9751 [==============================] - 1s 67us/step\n",
      "\n",
      "Model validation against testset 2:\n",
      "\n",
      "test2 loss: 0.045121963765407606\n",
      "test2 accuracy: 0.9906676238579036\n"
     ]
    }
   ],
   "source": [
    "#testing model against testset 2\n",
    "\n",
    "test_loss, test_acc = network.evaluate(x_test, y_test)\n",
    "print()\n",
    "print(\"Model validation against testset 1:\")\n",
    "print()\n",
    "print('test loss:', test_loss)\n",
    "print('test accuracy:', test_acc)\n",
    "print()\n",
    "print()\n",
    "\n",
    "## JIMMY: This evaluation is correct (+5 marks back)\n",
    "test_loss, test_acc = network.evaluate(x_test2, y_test2)\n",
    "print()\n",
    "print(\"Model validation against testset 2:\")\n",
    "print()\n",
    "print('test2 loss:', test_loss)\n",
    "print('test2 accuracy:', test_acc)"
   ]
  },
  {
   "cell_type": "code",
   "execution_count": null,
   "metadata": {
    "colab": {},
    "colab_type": "code",
    "id": "5O_ri54IEtxd"
   },
   "outputs": [],
   "source": [
    "# save the model\n",
    "pk.dump(history, open('model.pkl', 'wb'))\n",
    "# save the scaler\n",
    "pk.dump(std_scaler, open('scaler.pkl', 'wb'))"
   ]
  },
  {
   "cell_type": "code",
   "execution_count": null,
   "metadata": {
    "colab": {},
    "colab_type": "code",
    "id": "McXgn2qW5O2N"
   },
   "outputs": [],
   "source": []
  }
 ],
 "metadata": {
  "accelerator": "GPU",
  "colab": {
   "collapsed_sections": [],
   "name": "assignment_q2b_predict draft.ipynb",
   "provenance": []
  },
  "kernelspec": {
   "display_name": "Python 3",
   "language": "python",
   "name": "python3"
  },
  "language_info": {
   "codemirror_mode": {
    "name": "ipython",
    "version": 3
   },
   "file_extension": ".py",
   "mimetype": "text/x-python",
   "name": "python",
   "nbconvert_exporter": "python",
   "pygments_lexer": "ipython3",
   "version": "3.6.10"
  }
 },
 "nbformat": 4,
 "nbformat_minor": 4
}
