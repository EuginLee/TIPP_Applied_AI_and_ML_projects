{
 "cells": [
  {
   "cell_type": "markdown",
   "metadata": {},
   "source": [
    "# Image preprocessing: sorting out the bird dataset into individuate category folders  \n",
    "This sorting processs is to allow us to upload the images easier into Azure Custom Vision.  \n",
    "We added extra image preprocessing and manipulation, such as grey, contour, and rotate images to try and improve our model performance."
   ]
  },
  {
   "cell_type": "code",
   "execution_count": 6,
   "metadata": {},
   "outputs": [
    {
     "name": "stderr",
     "output_type": "stream",
     "text": [
      "C:\\Users\\User\\Anaconda3\\lib\\site-packages\\ipykernel_launcher.py:9: FutureWarning: The signature of `Series.to_csv` was aligned to that of `DataFrame.to_csv`, and argument 'header' will change its default value from False to True: please pass an explicit value to suppress this warning.\n",
      "  if __name__ == '__main__':\n"
     ]
    },
    {
     "data": {
      "text/html": [
       "<div>\n",
       "<style scoped>\n",
       "    .dataframe tbody tr th:only-of-type {\n",
       "        vertical-align: middle;\n",
       "    }\n",
       "\n",
       "    .dataframe tbody tr th {\n",
       "        vertical-align: top;\n",
       "    }\n",
       "\n",
       "    .dataframe thead th {\n",
       "        text-align: right;\n",
       "    }\n",
       "</style>\n",
       "<table border=\"1\" class=\"dataframe\">\n",
       "  <thead>\n",
       "    <tr style=\"text-align: right;\">\n",
       "      <th></th>\n",
       "      <th>filename</th>\n",
       "      <th>label</th>\n",
       "    </tr>\n",
       "  </thead>\n",
       "  <tbody>\n",
       "    <tr>\n",
       "      <td>0</td>\n",
       "      <td>_JWO0007_cr</td>\n",
       "      <td>Stork-billed_Kingfisher</td>\n",
       "    </tr>\n",
       "    <tr>\n",
       "      <td>1</td>\n",
       "      <td>_JWO0008_cr</td>\n",
       "      <td>Banded_Woodpecker</td>\n",
       "    </tr>\n",
       "    <tr>\n",
       "      <td>2</td>\n",
       "      <td>_JWO0019_cr</td>\n",
       "      <td>Banded_Woodpecker</td>\n",
       "    </tr>\n",
       "    <tr>\n",
       "      <td>3</td>\n",
       "      <td>_JWO0044_cr</td>\n",
       "      <td>Common_Redshank</td>\n",
       "    </tr>\n",
       "    <tr>\n",
       "      <td>4</td>\n",
       "      <td>_JWO0046_cr</td>\n",
       "      <td>Common_Redshank</td>\n",
       "    </tr>\n",
       "    <tr>\n",
       "      <td>...</td>\n",
       "      <td>...</td>\n",
       "      <td>...</td>\n",
       "    </tr>\n",
       "    <tr>\n",
       "      <td>881</td>\n",
       "      <td>File1498_cr</td>\n",
       "      <td>Oriental_Pied_Hornbill</td>\n",
       "    </tr>\n",
       "    <tr>\n",
       "      <td>882</td>\n",
       "      <td>File1499_cr</td>\n",
       "      <td>Oriental_Pied_Hornbill</td>\n",
       "    </tr>\n",
       "    <tr>\n",
       "      <td>883</td>\n",
       "      <td>File2827_cr</td>\n",
       "      <td>Oriental_Pied_Hornbill</td>\n",
       "    </tr>\n",
       "    <tr>\n",
       "      <td>884</td>\n",
       "      <td>sunda_pygmi01_cr</td>\n",
       "      <td>Sunda_Pygmy_Woodpecker</td>\n",
       "    </tr>\n",
       "    <tr>\n",
       "      <td>885</td>\n",
       "      <td>sunda_pygmi02_cr</td>\n",
       "      <td>Sunda_Pygmy_Woodpecker</td>\n",
       "    </tr>\n",
       "  </tbody>\n",
       "</table>\n",
       "<p>886 rows × 2 columns</p>\n",
       "</div>"
      ],
      "text/plain": [
       "             filename                    label\n",
       "0         _JWO0007_cr  Stork-billed_Kingfisher\n",
       "1         _JWO0008_cr        Banded_Woodpecker\n",
       "2         _JWO0019_cr        Banded_Woodpecker\n",
       "3         _JWO0044_cr          Common_Redshank\n",
       "4         _JWO0046_cr          Common_Redshank\n",
       "..                ...                      ...\n",
       "881       File1498_cr   Oriental_Pied_Hornbill\n",
       "882       File1499_cr   Oriental_Pied_Hornbill\n",
       "883       File2827_cr   Oriental_Pied_Hornbill\n",
       "884  sunda_pygmi01_cr   Sunda_Pygmy_Woodpecker\n",
       "885  sunda_pygmi02_cr   Sunda_Pygmy_Woodpecker\n",
       "\n",
       "[886 rows x 2 columns]"
      ]
     },
     "execution_count": 6,
     "metadata": {},
     "output_type": "execute_result"
    }
   ],
   "source": [
    "#Data pre-processing - Image filing into bird specie folder\n",
    "import pandas as pd \n",
    "\n",
    "df = pd.read_csv(\"birds_dataset/trainLabels_bird.csv\")\n",
    "#label = df.groupby(\"label\")[\"label\"].count()\n",
    "#label\n",
    "label = df[\"label\"].value_counts()\n",
    "label.sort_values()\n",
    "label.to_csv(\"birdCat.csv\")\n",
    "newFolderName = pd.read_csv(\"birdCat.csv\", header=None)\n",
    "df\n",
    "# label"
   ]
  },
  {
   "cell_type": "code",
   "execution_count": 7,
   "metadata": {},
   "outputs": [],
   "source": [
    "#2) Resize the images to 224px by 224px and save them into a separate directory\n",
    "from PIL import Image, ImageOps, ImageFilter\n",
    "import glob, os\n",
    "\n",
    "size = 224, 224\n",
    "readfolder=\"birds_dataset/train\"\n",
    "#readfolder=\"birds_dataset/test_bird\"\n",
    "i=0\n",
    "group=0\n",
    "\n",
    "while i < len(df):\n",
    "    #print(df[\"filename\"][i]) #first column value is the folder name\n",
    "    newfolder = \"birds_dataset/train/\" + df[\"label\"][i]\n",
    "    #newfolder = \"birds_dataset/train/n\" + str(group)\n",
    "    if not os.path.exists(newfolder):\n",
    "        os.makedirs(newfolder)\n",
    "        \n",
    "    im = Image.open(\"birds_dataset/birds/\" + df[\"filename\"][i] + \".jpg\")\n",
    "    #im.thumbnail(size)\n",
    "    out1 = ImageOps.grayscale(im)\n",
    "    out2 =im.filter(ImageFilter.CONTOUR)\n",
    "    im.save(newfolder + \"/\" + df[\"filename\"][i] + \".jpg\", \"JPEG\")\n",
    "    out1.save(newfolder + \"/\" + df[\"filename\"][i] +\"grey\" + \".jpg\", \"JPEG\")\n",
    "    out2.save(newfolder + \"/\" + df[\"filename\"][i] + \"contour\" \".jpg\", \"JPEG\")\n",
    "\n",
    "    i=i+1\n",
    "    \n"
   ]
  },
  {
   "cell_type": "code",
   "execution_count": null,
   "metadata": {},
   "outputs": [],
   "source": []
  },
  {
   "cell_type": "code",
   "execution_count": null,
   "metadata": {},
   "outputs": [],
   "source": []
  }
 ],
 "metadata": {
  "kernelspec": {
   "display_name": "Python 3",
   "language": "python",
   "name": "python3"
  },
  "language_info": {
   "codemirror_mode": {
    "name": "ipython",
    "version": 3
   },
   "file_extension": ".py",
   "mimetype": "text/x-python",
   "name": "python",
   "nbconvert_exporter": "python",
   "pygments_lexer": "ipython3",
   "version": "3.6.10"
  }
 },
 "nbformat": 4,
 "nbformat_minor": 4
}
